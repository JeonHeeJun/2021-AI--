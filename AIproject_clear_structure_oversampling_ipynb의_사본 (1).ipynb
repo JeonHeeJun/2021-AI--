{
  "nbformat": 4,
  "nbformat_minor": 5,
  "metadata": {
    "kernelspec": {
      "display_name": "gnn",
      "language": "python",
      "name": "gnn"
    },
    "language_info": {
      "codemirror_mode": {
        "name": "ipython",
        "version": 3
      },
      "file_extension": ".py",
      "mimetype": "text/x-python",
      "name": "python",
      "nbconvert_exporter": "python",
      "pygments_lexer": "ipython3",
      "version": "3.7.10"
    },
    "colab": {
      "name": "AIproject_clear_structure_oversampling_ipynb의_사본.ipynb",
      "provenance": [],
      "collapsed_sections": []
    },
    "accelerator": "GPU"
  },
  "cells": [
    {
      "cell_type": "code",
      "metadata": {
        "id": "81132781"
      },
      "source": [
        "import torch\n",
        "import torch.optim as optim\n",
        "import torch.nn as nn\n",
        "import torch.nn.functional as F\n",
        "import numpy as np\n",
        "from sklearn.preprocessing import MinMaxScaler,StandardScaler,RobustScaler\n",
        "torch.manual_seed(0)\n",
        "torch.set_default_dtype(torch.double)\n",
        "import matplotlib.pyplot as plt\n",
        "torch.set_default_dtype(torch.double)\n"
      ],
      "id": "81132781",
      "execution_count": 1,
      "outputs": []
    },
    {
      "cell_type": "code",
      "metadata": {
        "colab": {
          "base_uri": "https://localhost:8080/"
        },
        "id": "y0kCPNLXTmaT",
        "outputId": "0c29b124-d4bd-4a7f-f5d8-9dcb7b5ee3e9"
      },
      "source": [
        "#구글 드라이브와 연결\n",
        "from google.colab import drive\n",
        "drive.mount('/content/drive')\n"
      ],
      "id": "y0kCPNLXTmaT",
      "execution_count": 2,
      "outputs": [
        {
          "output_type": "stream",
          "text": [
            "Drive already mounted at /content/drive; to attempt to forcibly remount, call drive.mount(\"/content/drive\", force_remount=True).\n"
          ],
          "name": "stdout"
        }
      ]
    },
    {
      "cell_type": "code",
      "metadata": {
        "id": "-x1f24I3ZMxq"
      },
      "source": [
        "#데이터 불러오기 : 구글드라이브에있는 경로로 데이터 불러옴\n",
        "import pandas as pd\n",
        "\"\"\"\n",
        "X_trian : 훈련데이터\n",
        "y_train : 훈련데이터 라벨\n",
        "X_val : 검증데이터\n",
        "y_val : 검증데이터 라벨\n",
        "X_test : 테스트데이터\n",
        "y_test : 테스트데이터 라벨\n",
        "\n",
        "all_ : 모든 데이터\n",
        "all_label: 모든 데이터 라벨\n",
        "\"\"\"\n",
        "\n",
        "X_train = pd.read_csv('/content/drive/MyDrive/projectdata/X_train.csv')\n",
        "X_val = pd.read_csv('/content/drive/MyDrive/projectdata/validation.csv')\n",
        "X_test = pd.read_csv('/content/drive/MyDrive/projectdata/X_test.csv')\n",
        "y_train = pd.read_csv('/content/drive/MyDrive/projectdata/y_train.csv')\n",
        "y_test = pd.read_csv('/content/drive/MyDrive/projectdata/y_test.csv')\n",
        "y_test = y_test.drop([y_test.columns[0]],axis=1)\n",
        "y_train = y_train.drop([y_train.columns[0]],axis=1)\n",
        "X_train=X_train.drop(X_train.columns[0],axis=1)\n",
        "y_val = X_val['class'].to_frame().rename(columns={'class':'Class'})\n",
        "X_val=X_val.drop(['class'],axis=1)\n",
        "X_val= X_val.drop([X_val.columns[0]],axis=1)\n",
        "X_test=X_test.drop([X_test.columns[0]],axis=1)\n",
        "all_ = pd.concat([X_train,X_val,X_test])\n",
        "all_label=pd.concat([y_train,y_val,y_test])"
      ],
      "id": "-x1f24I3ZMxq",
      "execution_count": 3,
      "outputs": []
    },
    {
      "cell_type": "code",
      "metadata": {
        "id": "gvW_Qk9cRbrY",
        "colab": {
          "base_uri": "https://localhost:8080/"
        },
        "outputId": "7c89f393-cd56-46b8-dd0b-1d915612e8c0"
      },
      "source": [
        "#Time, Amount feature 스케일링\n",
        "#RobustScaler() 이용\n",
        "\n",
        "RS=RobustScaler()\n",
        "all_['Time'] = RS.fit_transform(all_['Time'].values.reshape(-1,1))\n",
        "all_['Amount'] = RS.fit_transform(all_['Amount'].values.reshape(-1,1))\n",
        "i = 0\n",
        "for temp in [X_train,X_val,X_test]:\n",
        "  temp['Time']= all_.iloc[i:i+temp.shape[0]]['Time']\n",
        "  temp['Amount'] = all_.iloc[i:i+temp.shape[0]]['Amount']\n",
        "  i += temp.shape[0]\n",
        "  print(i)\n"
      ],
      "id": "gvW_Qk9cRbrY",
      "execution_count": 4,
      "outputs": [
        {
          "output_type": "stream",
          "text": [
            "159491\n",
            "216453\n",
            "284807\n"
          ],
          "name": "stdout"
        }
      ]
    },
    {
      "cell_type": "markdown",
      "metadata": {
        "id": "pgKfHipddsrb"
      },
      "source": [
        "outlier가 있으면 학습에 악영향. 스케일링이 필요. V feature들은 스케일링이 되어있지만 Time Amount는 안돼있음 \\\n",
        "RoubstaScaler : outlier에 많이 민감하지 않게 스케일링해줌 \n",
        "https://mkjjo.github.io/python/2019/01/10/scaler.html"
      ],
      "id": "pgKfHipddsrb"
    },
    {
      "cell_type": "code",
      "metadata": {
        "id": "OSfQC8wWVQTl"
      },
      "source": [
        ""
      ],
      "id": "OSfQC8wWVQTl",
      "execution_count": 4,
      "outputs": []
    },
    {
      "cell_type": "code",
      "metadata": {
        "id": "IUV7TpoBmhmq",
        "colab": {
          "base_uri": "https://localhost:8080/"
        },
        "outputId": "63144608-6701-4de4-9692-2be9dc4fd48a"
      },
      "source": [
        "#깔끔하게 함수로 변경하는게 좋을듯?\n",
        "#print 좀더 이쁜 결과 출력하도록 변경.\n",
        "\"\"\"\n",
        "이상치 제거: \n",
        "상관관계 분석결과 V14, V17이 높으면 class 는 0 에가까움.(낮으면 1에 가까움)\n",
        "class 0, class 1에서 V14, V17이 outlier로 판단되는 데이터를 없앰\n",
        "\n",
        "IQR 방법 이용 : 전체 데이터를 기준으로 X_train, X_val에서의 outlier 제거\n",
        "\"\"\"\n",
        "\n",
        "#상관관계분석 : 가장 낮은(크기가 큰) 두 feature 구하기(V14, V17)\n",
        "concat=pd.concat([all_,all_label],axis=1)\n",
        "corr_column= concat.corr()['Class'].sort_values()[:2].index.to_numpy().tolist()\n",
        "normal_df = concat[concat['Class'] == 0]\n",
        "\n",
        "for col in corr_column:\n",
        "    print(\"remove outlier\")\n",
        "    cut_train = X_train[y_train['Class']==0]\n",
        "    cut_val = X_val[y_val['Class']==0]\n",
        "\n",
        "    normal = normal_df[col]\n",
        "    quantile_25 = np.percentile(normal.values, 25)\n",
        "    quantile_75 = np.percentile(normal.values, 75)\n",
        "    iqr = quantile_75 - quantile_25\n",
        "    iqr_weight = iqr * 1.5\n",
        "    lowest_val = quantile_25 - iqr_weight\n",
        "    highest_val = quantile_75 + iqr_weight\n",
        "\n",
        "    #X_trian, X_val에서 outlier 데이터 제거\n",
        "    outlier_index_train = cut_train[(cut_train[col] < lowest_val) | (cut_train[col] > highest_val)].index\n",
        "    X_train =X_train.drop(index = outlier_index_train.to_list())\n",
        "    y_train=y_train.drop(index = outlier_index_train.to_list())\n",
        "    outlier_index_val = cut_val[(cut_val[col] < lowest_val) | (cut_val[col] > highest_val)].index\n",
        "    X_val = X_val.drop(index = outlier_index_val.to_list())\n",
        "    y_val = y_val.drop(index = outlier_index_val.to_list())\n",
        "\n",
        "    #제거한 outlier 데이터 인덱스 출력\n",
        "    print(\"outlier_train\",outlier_index_train)\n",
        "    print(\"outlier_val\",outlier_index_val)"
      ],
      "id": "IUV7TpoBmhmq",
      "execution_count": 5,
      "outputs": [
        {
          "output_type": "stream",
          "text": [
            "remove outlier\n",
            "outlier_train Int64Index([    23,    161,    191,    297,    351,    355,    374,    505,\n",
            "               578,    587,\n",
            "            ...\n",
            "            159133, 159134, 159182, 159240, 159283, 159305, 159321, 159351,\n",
            "            159375, 159443],\n",
            "           dtype='int64', length=3933)\n",
            "outlier_val Int64Index([   16,    88,   150,   153,   180,   252,   352,   369,   463,\n",
            "              578,\n",
            "            ...\n",
            "            56713, 56727, 56796, 56803, 56828, 56842, 56871, 56879, 56890,\n",
            "            56951],\n",
            "           dtype='int64', length=1410)\n",
            "remove outlier\n",
            "outlier_train Int64Index([    18,     25,     51,     72,     80,    110,    238,    250,\n",
            "               278,    316,\n",
            "            ...\n",
            "            159090, 159109, 159124, 159149, 159171, 159269, 159310, 159438,\n",
            "            159441, 159466],\n",
            "           dtype='int64', length=5388)\n",
            "outlier_val Int64Index([   14,    15,   202,   226,   273,   290,   296,   309,   346,\n",
            "              425,\n",
            "            ...\n",
            "            56606, 56664, 56666, 56694, 56697, 56744, 56778, 56905, 56940,\n",
            "            56957],\n",
            "           dtype='int64', length=1864)\n"
          ],
          "name": "stdout"
        }
      ]
    },
    {
      "cell_type": "code",
      "metadata": {
        "colab": {
          "base_uri": "https://localhost:8080/"
        },
        "id": "oHM5fzuprm3Q",
        "outputId": "828aee60-7bff-400b-dfba-4d29b5110e77"
      },
      "source": [
        "normal_df = concat[concat['Class'] == 1]\n",
        "\n",
        "for col in corr_column:\n",
        "    print(\"remove outlier\")\n",
        "    cut_train = X_train[y_train['Class']==1]\n",
        "    cut_val = X_val[y_val['Class']==1]\n",
        "\n",
        "    normal = normal_df[col]\n",
        "    quantile_25 = np.percentile(normal.values, 25)\n",
        "    quantile_75 = np.percentile(normal.values, 75)\n",
        "    iqr = quantile_75 - quantile_25\n",
        "    iqr_weight = iqr * 1.5\n",
        "    lowest_val = quantile_25 - iqr_weight\n",
        "    highest_val = quantile_75 + iqr_weight\n",
        "\n",
        "    outlier_index_train = cut_train[(cut_train[col] < lowest_val) | (cut_train[col] > highest_val)].index\n",
        "\n",
        "    X_train =X_train.drop(index = outlier_index_train.to_list())\n",
        "    y_train=y_train.drop(index = outlier_index_train.to_list())\n",
        "\n",
        "    outlier_index_val = cut_val[(cut_val[col] < lowest_val) | (cut_val[col] > highest_val)].index\n",
        "    X_val = X_val.drop(index = outlier_index_val.to_list())\n",
        "    y_val = y_val.drop(index = outlier_index_val.to_list())\n",
        "    print(\"outlier_train\",outlier_index_train)\n",
        "    print(\"outlier_val\",outlier_index_val)"
      ],
      "id": "oHM5fzuprm3Q",
      "execution_count": 6,
      "outputs": [
        {
          "output_type": "stream",
          "text": [
            "remove outlier\n",
            "outlier_train Int64Index([], dtype='int64')\n",
            "outlier_val Int64Index([], dtype='int64')\n",
            "remove outlier\n",
            "outlier_train Int64Index([107053, 129525], dtype='int64')\n",
            "outlier_val Int64Index([20031, 25903], dtype='int64')\n"
          ],
          "name": "stdout"
        }
      ]
    },
    {
      "cell_type": "markdown",
      "metadata": {
        "id": "uUibbbANgsiy"
      },
      "source": [
        "IQR 방법 : https://www.kaggle.com/dogdriip/iqr-outlier-smote-oversampling\n",
        "\n"
      ],
      "id": "uUibbbANgsiy"
    },
    {
      "cell_type": "code",
      "metadata": {
        "id": "rX7JkIQZ5J49"
      },
      "source": [
        "\"\"\"\n",
        "cross validation 적용 :\n",
        "X_train, X_val을 붙여 X_cross를 만들고, X_cross를 5등분(5-folds).\n",
        "번갈아가며 4-folds 는 훈련데이터 , 1-fold 는 검증데이터로 이용.\n",
        "\"\"\"\n",
        "X_cross = pd.concat([X_train, X_val])\n",
        "y_cross=pd.concat([y_train, y_val])\n",
        "\n",
        "from sklearn.model_selection import StratifiedKFold\n",
        "n_splits = 5\n",
        "stk = StratifiedKFold(n_splits=n_splits,shuffle=True)"
      ],
      "id": "rX7JkIQZ5J49",
      "execution_count": 7,
      "outputs": []
    },
    {
      "cell_type": "markdown",
      "metadata": {
        "id": "IzBC5tAuhw-t"
      },
      "source": [
        "cross-validation:\n",
        "https://velog.io/@skyepodium/K-Fold-%EA%B5%90%EC%B0%A8%EA%B2%80%EC%A6%9D \\\n",
        "\n",
        "stratifledKfold : 데이터를 folds로 나눌때 라벨값의 비율도 고려. credit fraud 데이터와 같이 불균형한 데이터에서 적절하게 fold를 형성함"
      ],
      "id": "IzBC5tAuhw-t"
    },
    {
      "cell_type": "code",
      "metadata": {
        "id": "IqV_TZw8pN5Q"
      },
      "source": [
        "#from imblearn import SMOTE\n",
        "#sm = SMOTE(sampling_strategy=0.1)\n",
        "#Xsm_train, ysm_train =sm.fit_sample(X_train, y_train)"
      ],
      "id": "IqV_TZw8pN5Q",
      "execution_count": 8,
      "outputs": []
    },
    {
      "cell_type": "markdown",
      "metadata": {
        "id": "Lk_NI3bdiFHj"
      },
      "source": [
        "oversampling : class 1 인 데이터가 너무 작으니, 가지고 있는 데이터를 가지고 다양한 1인 데이터 형성하는 기법.(그중 SMOTE 이용) \\\n",
        "적용결과 : recall은 굉장히 높았지만 precision이 0에 가까움. class 0인데이터를 1로 분류한게 많다는 의미. \\\n",
        "분석) 원래 가지고있던 두 클래스의 데이터가 서로 가까운게 많아, SMOTE로 1 데이터를 많이 만들었을때 오히려 신경망이 경계를 잘 못잡음. \\\n",
        "https://log-laboratory.tistory.com/343\n",
        "credit fraud (1),(2),(3) 대강 읽으면 전체적인 흐름 파악하는데 도움 많이될거같습니다."
      ],
      "id": "Lk_NI3bdiFHj"
    },
    {
      "cell_type": "code",
      "metadata": {
        "id": "Byzb5p15ViLZ"
      },
      "source": [
        "class Residual(nn.Module):\n",
        "  def __init__(self, m, layers=2):\n",
        "    super(Residual,self).__init__()\n",
        "    seq = []\n",
        "    for _ in range(layers):\n",
        "      seq+=[nn.Linear(m,m),nn.BatchNorm1d(m),nn.LeakyReLU(0.2),nn.Dropout(0.1)]\n",
        "    self.main = nn.Sequential(*seq)\n",
        "  def forward(self, in_):\n",
        "    output = self.main(in_) + in_\n",
        "    return output"
      ],
      "id": "Byzb5p15ViLZ",
      "execution_count": 9,
      "outputs": []
    },
    {
      "cell_type": "markdown",
      "metadata": {
        "id": "to7lD6zflxME"
      },
      "source": [
        "![image.png](data:image/png;base64,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)"
      ],
      "id": "to7lD6zflxME"
    },
    {
      "cell_type": "markdown",
      "metadata": {
        "id": "x1zlM7czmFwl"
      },
      "source": [
        "신경망 연산후 위 그림에 보이는 순서로 각각 연산 수행 \\\n",
        "BatchNorm : 신경망 연산의 출력을 normalization 해줌. gradient값이 너무 커지거나 너무 낮아지지 않도록 함. \\\n",
        "leakyReLU : 활성화함수\n",
        "Dropout : 다음 층으로 전달되는 출력의 수를 줄임. 모델에선 랜덤하게 10% 줄이고 전달. \\\n",
        "알고리즘 3~4줄정도 간단하게 찾아서 ppt에 넣으면 좋을거같습니다."
      ],
      "id": "x1zlM7czmFwl"
    },
    {
      "cell_type": "code",
      "metadata": {
        "id": "28bb4b22"
      },
      "source": [
        "class DNN(nn.Module):\n",
        "    def __init__(self, i, o, m, layers):\n",
        "        super(DNN, self).__init__()\n",
        "        seq = []\n",
        "        seq += [nn.Linear(i,m),nn.BatchNorm1d(m),nn.LeakyReLU(0.2)]\n",
        "        for _ in range(layers):\n",
        "            seq+=[Residual(m,layers=1)]\n",
        "        seq+=[nn.Linear(m,o)]\n",
        "        self.main=nn.Sequential(*seq)\n",
        "    def forward(self, in_):\n",
        "        output = self.main(in_)\n",
        "        return output\n",
        "        "
      ],
      "id": "28bb4b22",
      "execution_count": 10,
      "outputs": []
    },
    {
      "cell_type": "markdown",
      "metadata": {
        "id": "r_n74EgxkHXh"
      },
      "source": [
        "![image.png](data:image/png;base64,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)"
      ],
      "id": "r_n74EgxkHXh"
    },
    {
      "cell_type": "markdown",
      "metadata": {
        "id": "-YvjzgOclQtJ"
      },
      "source": [
        "위 그림과 같은 구조 \\\n",
        "resnet : 그림처럼 layer의 입력을 출력과 더해줌. gradient 값이 잘 전달되게 하는게 목표. 주로 깊은 신경망에 쓰임 \\\n",
        "출력으로 나온 1개 feature값은 학습과정에서 sigmoid 를 거쳐 역전파"
      ],
      "id": "-YvjzgOclQtJ"
    },
    {
      "cell_type": "code",
      "metadata": {
        "id": "efc235c8"
      },
      "source": [
        "batch_size = 64\n",
        "epoch = 5 \n",
        "iteration = 30000\n",
        "\n",
        "\"\"\"gpu에 torch를 객체를 집어넣는 함수\"\"\"\n",
        "def cudify(v):\n",
        "    if torch.cuda.is_available() :\n",
        "        return v.cuda()\n",
        "    else:\n",
        "        return v"
      ],
      "id": "efc235c8",
      "execution_count": 11,
      "outputs": []
    },
    {
      "cell_type": "code",
      "metadata": {
        "id": "3b-AvzaZ2k4p"
      },
      "source": [
        "class early_stop:\n",
        "  def __init__(self, path, patient = 7,delta=0):\n",
        "    self.patient = patient\n",
        "    self.best_score = None # val_loss가 최고로 낮을때 점수\n",
        "    self.counter = 0 # val_loss가 연속으로 상향하지 않은 횟수\n",
        "    self.early_stop = False\n",
        "    self.path = path # 최고 성능 모델을 저장하는 경로.\n",
        "    self.delta = delta\n",
        "  def __call__(self, val_loss, model): # validation 과정마다 이전값에서 떨어졌는지 증가했는지 비교.\n",
        "        score = val_loss\n",
        "        if self.best_score is None: \n",
        "            self.best_score = score\n",
        "            self.save_checkpoint(val_loss, model)\n",
        "        elif score > self.best_score+self.delta:\n",
        "            #현재 val_loss가 best_score 보다 나쁘다면(더 큰경우) counter 하나 증가\n",
        "            self.counter += 1\n",
        "            if self.counter % 25 == 0:\n",
        "              print(f'EarlyStopping counter: {self.counter} out of {self.patient}')\n",
        "            if self.counter >= self.patient:\n",
        "              #counter값이 patient에 도달하면 학습을 종료.\n",
        "              self.early_stop = True\n",
        "        else:\n",
        "            #val_loss값이 best_score보다 작은경우\n",
        "            #현재 모델이 최고성능이라는 의미. self.path의 경로에 저장한다.\n",
        "            self.best_score = score\n",
        "            self.save_checkpoint(val_loss, model)\n",
        "            self.counter = 0\n",
        "  def save_checkpoint(self, val_loss, model):\n",
        "        '''validation loss가 감소하면 모델 저장.'''\n",
        "        torch.save(model.state_dict(), self.path)\n",
        "  def initialize(self):\n",
        "    self.counter = 0\n",
        "    self.early_stop = False\n"
      ],
      "id": "3b-AvzaZ2k4p",
      "execution_count": 21,
      "outputs": []
    },
    {
      "cell_type": "markdown",
      "metadata": {
        "id": "L1yYwhVPnGN-"
      },
      "source": [
        "early stop : 검증데이터를 모델에 집어넣은 후 나오는 loss 값을 가지고 더 떨어졌는지 안떨어졌는지 비교. loss가 안떨어지는 상황이 patient(50번) 정도 계속 되면 학습종료. \\\n",
        "검증데이터(validation)을 어떻게 활용하는지 보고오시면 코드 읽는데 도움 많이 될거 같습니다\n",
        "https://quokkas.tistory.com/entry/pytorch%EC%97%90%EC%84%9C-EarlyStop-%EC%9D%B4%EC%9A%A9%ED%95%98%EA%B8%B0\n"
      ],
      "id": "L1yYwhVPnGN-"
    },
    {
      "cell_type": "markdown",
      "metadata": {
        "id": "4G4AhX3EBuWg"
      },
      "source": [
        ""
      ],
      "id": "4G4AhX3EBuWg"
    },
    {
      "cell_type": "code",
      "metadata": {
        "id": "f71757f8",
        "colab": {
          "base_uri": "https://localhost:8080/"
        },
        "outputId": "690c6045-e9a9-47ba-8b3f-577b67635c9a"
      },
      "source": [
        "\"\"\"학습 코드\"\"\"\n",
        "\n",
        "\n",
        "model_path = '/content/drive/MyDrive/Colab Notebooks/modelsave/checkpoint.pt'\n",
        "\n",
        "test_ = torch.from_numpy(X_test.to_numpy())\n",
        "result = torch.zeros([test_.shape[0],1]) #각 모델에 대한 모델의 예측값 저장\n",
        "\n",
        "#visualizatin에 필요한 변수\n",
        "all_train_loss=[]\n",
        "all_val_loss=[]\n",
        "\n",
        "for i , (train_id, val_id) in enumerate(stk.split(X_cross,y_cross)):\n",
        "  \"\"\"StratifiedKFold를 이용한 cross validation\"\"\"\n",
        "  early_stopper= early_stop(path=model_path,patient=50) \n",
        "  print(\"cross validation batch\",i)\n",
        "  #model 생성\n",
        "  model=DNN(i=all_.shape[1],o=1,m=32,layers=5)\n",
        "  if torch.cuda.is_available():\n",
        "      model.cuda()\n",
        "  #criterion = nn.BCELoss() #loss함수\n",
        "  model_optimizer = optim.Adam(model.parameters(),lr=1e-4,weight_decay=0.9)\n",
        "  \n",
        "  #train dataset 만들기\n",
        "  train_ = X_cross.iloc[train_id].to_numpy()\n",
        "  label_ = (y_cross.iloc[train_id].to_numpy()).astype(np.float64)\n",
        "  \n",
        "  #val만들기: 매 epoch 마다 val_loss 계산\n",
        "  #모든 검증데이터를 gpu에 집어넣음\n",
        "  val_ = X_cross.iloc[val_id].to_numpy()\n",
        "  val_ = cudify(torch.from_numpy(val_))\n",
        "  val_label = (y_cross.iloc[val_id].to_numpy()).astype(np.float64)\n",
        "  val_label=cudify(torch.from_numpy(val_label))\n",
        "  \n",
        "  #visualization 할때 필요한 변수\n",
        "  train_loss_list=[]\n",
        "  val_loss_list=[]\n",
        "\n",
        "  for j in range(epoch):\n",
        "    \"\"\"실제 학습\n",
        "    매 epoch 마다 lr을 절반으로 줄임\n",
        "    fold dataset에 대해 epoch만큼 학습이 끝나면 \n",
        "    테스트 데이터셋에 대한 예측확률값 result에 저장.\n",
        "    \"\"\"\n",
        "    print(\"epoch: \",j)\n",
        "    early_stopper.initialize()\n",
        "    for k in range(iteration):\n",
        "        model.train() #model을 학습모드로 변경.\n",
        "        model_optimizer.zero_grad()\n",
        "\n",
        "        #batch_size(64) 크기의 데이터를 랜덤하게 불러옴\n",
        "        batch_index=np.random.choice(train_.shape[0],size=batch_size,replace=False)\n",
        "        batch_data = train_[batch_index]\n",
        "\n",
        "        #gpu에 집어넣음\n",
        "        target=cudify(torch.from_numpy(batch_data))\n",
        "        batch_label = cudify(torch.from_numpy(label_[batch_index]))\n",
        "\n",
        "        #loss 계산\n",
        "        loss = F.binary_cross_entropy_with_logits(model(target), batch_label)\n",
        "        loss.backward() #역전파\n",
        "        model_optimizer.step()\n",
        "\n",
        "        #model.eval() : batchnorm 계층때문에 eval모드로 검증데이터 loss 확인 불가능\n",
        "        with torch.no_grad():#검증 데이터 성능 확인\n",
        "          val_loss = F.binary_cross_entropy_with_logits(model(val_),val_label)\n",
        "          if k % 100 == 0:\n",
        "            print('index : ',k, \"train_loss: \",loss.item(), \"val_loss: \",val_loss.item())\n",
        "\n",
        "          #val_loss를 가지고 현재 stop 해야하는지 아닌지 결정\n",
        "          early_stopper(val_loss,model)\n",
        "          if early_stopper.early_stop:\n",
        "            # patient(50)번 성능 향상이 없다면 학습 종료\n",
        "            print(k,\"early stop\")\n",
        "            break\n",
        "        train_loss_list.append(loss.item())\n",
        "        val_loss_list.append(val_loss.item())\n",
        "    model_optimizer.param_groups[0]['lr'] /=2 #lr을 절반으로 줄임. weight decay\n",
        "    model.load_state_dict(torch.load(model_path)) #early stop 과정에서 저장된 가장 좋은 모델을 가져옴,\n",
        "  all_train_loss.append(train_loss_list)\n",
        "  all_val_loss.append(val_loss_list)\n",
        "  #test 데이터에 대한 모델 성능 평가.\n",
        "  model.eval()\n",
        "  model.cpu()\n",
        "  result += F.sigmoid(model(test_))\n",
        "\n",
        "  "
      ],
      "id": "f71757f8",
      "execution_count": 22,
      "outputs": [
        {
          "output_type": "stream",
          "text": [
            "cross validation batch 0\n",
            "epoch:  0\n",
            "index :  0 train_loss:  0.9190492771893713 val_loss:  0.8490241036172571\n",
            "index :  100 train_loss:  0.602118636368148 val_loss:  0.5779256956336254\n",
            "index :  200 train_loss:  0.40359736466578655 val_loss:  0.412860591448591\n",
            "index :  300 train_loss:  0.35480634859972227 val_loss:  0.3136358745716529\n",
            "index :  400 train_loss:  0.22063658880415743 val_loss:  0.2521535725100145\n",
            "index :  500 train_loss:  0.16800873176998912 val_loss:  0.20905158213374106\n",
            "index :  600 train_loss:  0.1468080340050972 val_loss:  0.18249743721468534\n",
            "index :  700 train_loss:  0.1371588870165017 val_loss:  0.16030256800284823\n",
            "index :  800 train_loss:  0.10878452199727295 val_loss:  0.13986998621691604\n",
            "index :  900 train_loss:  0.10677933625687089 val_loss:  0.12418228484146152\n",
            "index :  1000 train_loss:  0.09384200333750856 val_loss:  0.10943001625353281\n",
            "index :  1100 train_loss:  0.08535702722338226 val_loss:  0.1015220843137396\n",
            "index :  1200 train_loss:  0.07604743417639759 val_loss:  0.0947050433456761\n",
            "index :  1300 train_loss:  0.06608438194270971 val_loss:  0.08717715651963874\n",
            "EarlyStopping counter: 25 out of 50\n",
            "index :  1400 train_loss:  0.0655982500996966 val_loss:  0.08335835012994641\n",
            "index :  1500 train_loss:  0.07340296819606554 val_loss:  0.07722622963236594\n",
            "index :  1600 train_loss:  0.06501118037212952 val_loss:  0.07443869576626272\n",
            "index :  1700 train_loss:  0.06052565235113598 val_loss:  0.06868921692587462\n",
            "index :  1800 train_loss:  0.06165706567565276 val_loss:  0.06558657937706189\n",
            "index :  1900 train_loss:  0.055547387407426416 val_loss:  0.06179146702737072\n",
            "index :  2000 train_loss:  0.05193640723254081 val_loss:  0.05799243071361383\n",
            "index :  2100 train_loss:  0.04506918837673519 val_loss:  0.052624628887161684\n",
            "index :  2200 train_loss:  0.0499406707589659 val_loss:  0.0495805556843665\n",
            "index :  2300 train_loss:  0.04545813487594901 val_loss:  0.046792007459767096\n",
            "index :  2400 train_loss:  0.05545965603821723 val_loss:  0.043760548782549216\n",
            "index :  2500 train_loss:  0.042318811129301595 val_loss:  0.04247493470543493\n",
            "EarlyStopping counter: 25 out of 50\n",
            "EarlyStopping counter: 25 out of 50\n",
            "EarlyStopping counter: 50 out of 50\n",
            "2574 early stop\n",
            "epoch:  1\n",
            "index :  0 train_loss:  0.04597919312409118 val_loss:  0.042010285241955304\n",
            "EarlyStopping counter: 25 out of 50\n",
            "EarlyStopping counter: 50 out of 50\n",
            "51 early stop\n",
            "epoch:  2\n",
            "index :  0 train_loss:  0.040797689546029865 val_loss:  0.04196012834207344\n",
            "EarlyStopping counter: 25 out of 50\n",
            "EarlyStopping counter: 25 out of 50\n",
            "index :  100 train_loss:  0.04054248546295891 val_loss:  0.0423102051017313\n",
            "EarlyStopping counter: 50 out of 50\n",
            "106 early stop\n",
            "epoch:  3\n",
            "index :  0 train_loss:  0.05186334253138926 val_loss:  0.04190215789296834\n",
            "EarlyStopping counter: 25 out of 50\n",
            "EarlyStopping counter: 25 out of 50\n",
            "index :  100 train_loss:  0.039615420055308444 val_loss:  0.04191732652177518\n",
            "EarlyStopping counter: 50 out of 50\n",
            "106 early stop\n",
            "epoch:  4\n",
            "index :  0 train_loss:  0.04134273010580007 val_loss:  0.041836920316593404\n",
            "EarlyStopping counter: 25 out of 50\n",
            "EarlyStopping counter: 25 out of 50\n",
            "EarlyStopping counter: 50 out of 50\n",
            "81 early stop\n"
          ],
          "name": "stdout"
        },
        {
          "output_type": "stream",
          "text": [
            "/usr/local/lib/python3.7/dist-packages/torch/nn/functional.py:1709: UserWarning: nn.functional.sigmoid is deprecated. Use torch.sigmoid instead.\n",
            "  warnings.warn(\"nn.functional.sigmoid is deprecated. Use torch.sigmoid instead.\")\n"
          ],
          "name": "stderr"
        },
        {
          "output_type": "stream",
          "text": [
            "cross validation batch 1\n",
            "epoch:  0\n",
            "index :  0 train_loss:  2.24009678247958 val_loss:  2.100612540223869\n",
            "index :  100 train_loss:  1.6439953933962668 val_loss:  1.5798854705329648\n",
            "index :  200 train_loss:  1.226083243796716 val_loss:  1.1527730408538803\n",
            "index :  300 train_loss:  0.9195473229910425 val_loss:  0.8337298606602137\n",
            "index :  400 train_loss:  0.5920990759253488 val_loss:  0.6152551812341236\n",
            "index :  500 train_loss:  0.4752040380173529 val_loss:  0.47095416966328213\n",
            "index :  600 train_loss:  0.38947653227115775 val_loss:  0.3771119152481559\n",
            "index :  700 train_loss:  0.3007345298073715 val_loss:  0.3110730181479488\n",
            "index :  800 train_loss:  0.2393183264745708 val_loss:  0.26271315829799813\n",
            "index :  900 train_loss:  0.1946390122167026 val_loss:  0.22676798937337345\n",
            "index :  1000 train_loss:  0.19407252291492388 val_loss:  0.19910007722763018\n",
            "index :  1100 train_loss:  0.19613068163103026 val_loss:  0.17617158697008536\n",
            "index :  1200 train_loss:  0.13842710239098194 val_loss:  0.15719873891929056\n",
            "index :  1300 train_loss:  0.1280111524508819 val_loss:  0.14124264861415997\n",
            "index :  1400 train_loss:  0.11688142927604307 val_loss:  0.12833874966579945\n",
            "index :  1500 train_loss:  0.10757281386248765 val_loss:  0.11610363861876755\n",
            "index :  1600 train_loss:  0.09382358527976825 val_loss:  0.10578990258455988\n",
            "index :  1700 train_loss:  0.09387208994470791 val_loss:  0.09633222850319191\n",
            "index :  1800 train_loss:  0.08209257234395133 val_loss:  0.08762787424480772\n",
            "index :  1900 train_loss:  0.07478509465563651 val_loss:  0.07977118965638581\n",
            "index :  2000 train_loss:  0.06933440311349764 val_loss:  0.07079870147982101\n",
            "index :  2100 train_loss:  0.06734651837869864 val_loss:  0.06330764043745693\n",
            "index :  2200 train_loss:  0.07159808320024938 val_loss:  0.056604205665637\n",
            "index :  2300 train_loss:  0.05292023259879494 val_loss:  0.051022814945766895\n",
            "index :  2400 train_loss:  0.049182826967452443 val_loss:  0.048047582046351144\n",
            "EarlyStopping counter: 25 out of 50\n",
            "index :  2500 train_loss:  0.052760009530943196 val_loss:  0.04565198858101185\n",
            "index :  2600 train_loss:  0.04480069607148303 val_loss:  0.04405370408595531\n",
            "index :  2700 train_loss:  0.05284775382396334 val_loss:  0.04305439206853553\n",
            "EarlyStopping counter: 25 out of 50\n",
            "EarlyStopping counter: 25 out of 50\n",
            "index :  2800 train_loss:  0.04599175682815092 val_loss:  0.04197874942411723\n",
            "EarlyStopping counter: 25 out of 50\n",
            "EarlyStopping counter: 50 out of 50\n",
            "2827 early stop\n",
            "epoch:  1\n",
            "index :  0 train_loss:  0.04258620689320017 val_loss:  0.04071763516666504\n",
            "EarlyStopping counter: 25 out of 50\n",
            "EarlyStopping counter: 50 out of 50\n",
            "54 early stop\n",
            "epoch:  2\n",
            "index :  0 train_loss:  0.045932986489196026 val_loss:  0.04071937170624665\n",
            "EarlyStopping counter: 25 out of 50\n",
            "EarlyStopping counter: 50 out of 50\n",
            "82 early stop\n",
            "epoch:  3\n",
            "index :  0 train_loss:  0.04003186355828611 val_loss:  0.04053911922902137\n",
            "EarlyStopping counter: 25 out of 50\n",
            "EarlyStopping counter: 50 out of 50\n",
            "89 early stop\n",
            "epoch:  4\n",
            "index :  0 train_loss:  0.05018961276433959 val_loss:  0.04039038510803022\n",
            "EarlyStopping counter: 25 out of 50\n",
            "EarlyStopping counter: 25 out of 50\n",
            "EarlyStopping counter: 25 out of 50\n",
            "index :  100 train_loss:  0.04416289654516995 val_loss:  0.04044054921213456\n",
            "EarlyStopping counter: 50 out of 50\n",
            "124 early stop\n",
            "cross validation batch 2\n",
            "epoch:  0\n",
            "index :  0 train_loss:  0.23911756754348584 val_loss:  0.26603715857699506\n",
            "index :  100 train_loss:  0.1480822662374665 val_loss:  0.20547078216238185\n",
            "index :  200 train_loss:  0.13667948233260432 val_loss:  0.17390874223089797\n",
            "index :  300 train_loss:  0.08293055312773889 val_loss:  0.15644555574376326\n",
            "index :  400 train_loss:  0.07425161620386056 val_loss:  0.1458859647310807\n",
            "index :  500 train_loss:  0.0821519060835692 val_loss:  0.1336334131898914\n",
            "index :  600 train_loss:  0.07517212795252032 val_loss:  0.12408779805946403\n",
            "EarlyStopping counter: 25 out of 50\n",
            "index :  700 train_loss:  0.07715411650983944 val_loss:  0.1162503523038197\n",
            "index :  800 train_loss:  0.07227133167245403 val_loss:  0.10766688952374037\n",
            "index :  900 train_loss:  0.0637462357207165 val_loss:  0.10043189143967976\n",
            "index :  1000 train_loss:  0.058776926425671124 val_loss:  0.09463629585996673\n",
            "index :  1100 train_loss:  0.06413141164890372 val_loss:  0.08719563033852022\n",
            "EarlyStopping counter: 25 out of 50\n",
            "index :  1200 train_loss:  0.04740425650041258 val_loss:  0.08168448590384994\n",
            "index :  1300 train_loss:  0.05614594501787855 val_loss:  0.0769453140337427\n",
            "index :  1400 train_loss:  0.04835158806349228 val_loss:  0.07100103858769423\n",
            "index :  1500 train_loss:  0.06073674260149693 val_loss:  0.06690548763704873\n",
            "index :  1600 train_loss:  0.04822932372127953 val_loss:  0.06376851696774703\n",
            "EarlyStopping counter: 25 out of 50\n",
            "index :  1700 train_loss:  0.04677741253593723 val_loss:  0.061072883026901184\n",
            "EarlyStopping counter: 25 out of 50\n",
            "index :  1800 train_loss:  0.0462576505562222 val_loss:  0.05868476234992694\n",
            "index :  1900 train_loss:  0.04491347922067709 val_loss:  0.056840659923672945\n",
            "EarlyStopping counter: 25 out of 50\n",
            "EarlyStopping counter: 25 out of 50\n",
            "index :  2000 train_loss:  0.04211306081109969 val_loss:  0.05497980909085905\n",
            "index :  2100 train_loss:  0.04369338731452073 val_loss:  0.05225997445547511\n",
            "index :  2200 train_loss:  0.0432105412955919 val_loss:  0.050599291220171365\n",
            "index :  2300 train_loss:  0.039417822636143005 val_loss:  0.04563392353190784\n",
            "index :  2400 train_loss:  0.03592835079391751 val_loss:  0.04187821179934236\n",
            "index :  2500 train_loss:  0.0355616957129481 val_loss:  0.0404612200056169\n",
            "EarlyStopping counter: 25 out of 50\n",
            "index :  2600 train_loss:  0.04206157020559055 val_loss:  0.039337428911981304\n",
            "EarlyStopping counter: 25 out of 50\n",
            "EarlyStopping counter: 50 out of 50\n",
            "2645 early stop\n",
            "epoch:  1\n",
            "index :  0 train_loss:  0.04584523403373028 val_loss:  0.039234350123448274\n",
            "EarlyStopping counter: 25 out of 50\n",
            "index :  100 train_loss:  0.03723354825740892 val_loss:  0.03906367323248525\n",
            "EarlyStopping counter: 50 out of 50\n",
            "103 early stop\n",
            "epoch:  2\n",
            "index :  0 train_loss:  0.037775202858175795 val_loss:  0.039003351054100126\n",
            "EarlyStopping counter: 25 out of 50\n",
            "EarlyStopping counter: 25 out of 50\n",
            "EarlyStopping counter: 50 out of 50\n",
            "93 early stop\n",
            "epoch:  3\n",
            "index :  0 train_loss:  0.042868273824437975 val_loss:  0.03897800841747823\n",
            "EarlyStopping counter: 25 out of 50\n",
            "index :  100 train_loss:  0.041134783759281125 val_loss:  0.038796178300035\n",
            "EarlyStopping counter: 25 out of 50\n",
            "EarlyStopping counter: 50 out of 50\n",
            "125 early stop\n",
            "epoch:  4\n",
            "index :  0 train_loss:  0.03584988288833273 val_loss:  0.038889705992731734\n",
            "EarlyStopping counter: 25 out of 50\n",
            "EarlyStopping counter: 50 out of 50\n",
            "49 early stop\n",
            "cross validation batch 3\n",
            "epoch:  0\n",
            "index :  0 train_loss:  1.1298898394197483 val_loss:  1.032324656006967\n",
            "index :  100 train_loss:  0.787957565351308 val_loss:  0.7158963109952925\n",
            "index :  200 train_loss:  0.4936691559222633 val_loss:  0.5094832719375461\n",
            "index :  300 train_loss:  0.34994709391800805 val_loss:  0.3828327424578467\n",
            "index :  400 train_loss:  0.27533047073417266 val_loss:  0.3061870965173946\n",
            "index :  500 train_loss:  0.22050037951091267 val_loss:  0.2542241891504596\n",
            "index :  600 train_loss:  0.18484929324856708 val_loss:  0.21587914617397996\n",
            "index :  700 train_loss:  0.15993415949903236 val_loss:  0.18607098445328393\n",
            "index :  800 train_loss:  0.13698142429085816 val_loss:  0.16324336563230876\n",
            "index :  900 train_loss:  0.09732118234835788 val_loss:  0.1441982475716251\n",
            "index :  1000 train_loss:  0.09745937075348192 val_loss:  0.12983296398034763\n",
            "index :  1100 train_loss:  0.09968447786205971 val_loss:  0.11271003743727215\n",
            "index :  1200 train_loss:  0.08022702288607059 val_loss:  0.1049908785223082\n",
            "index :  1300 train_loss:  0.0829864694571952 val_loss:  0.09660047819022473\n",
            "index :  1400 train_loss:  0.08042478624586623 val_loss:  0.0871987459159671\n",
            "index :  1500 train_loss:  0.11977380174595453 val_loss:  0.08375640099260033\n",
            "index :  1600 train_loss:  0.09580407952032363 val_loss:  0.07745863031553171\n",
            "index :  1700 train_loss:  0.05834753057788666 val_loss:  0.07140238230606796\n",
            "index :  1800 train_loss:  0.054867879416104846 val_loss:  0.06740858817985657\n",
            "index :  1900 train_loss:  0.05783221654524735 val_loss:  0.06420527450484256\n",
            "index :  2000 train_loss:  0.05289307161994874 val_loss:  0.0619474465709099\n",
            "index :  2100 train_loss:  0.05376727757833963 val_loss:  0.058759749847206756\n",
            "index :  2200 train_loss:  0.05471590019202216 val_loss:  0.0570588770657764\n",
            "index :  2300 train_loss:  0.05018029431176711 val_loss:  0.05364630202760993\n",
            "index :  2400 train_loss:  0.049561032152926926 val_loss:  0.05002272164485195\n",
            "EarlyStopping counter: 25 out of 50\n",
            "index :  2500 train_loss:  0.04134577456356472 val_loss:  0.04553855022998191\n",
            "index :  2600 train_loss:  0.043527535469354825 val_loss:  0.043789095859370665\n",
            "EarlyStopping counter: 25 out of 50\n",
            "EarlyStopping counter: 25 out of 50\n",
            "index :  2700 train_loss:  0.041233081965435917 val_loss:  0.042162610195468034\n",
            "EarlyStopping counter: 25 out of 50\n",
            "EarlyStopping counter: 25 out of 50\n",
            "EarlyStopping counter: 50 out of 50\n",
            "2793 early stop\n",
            "epoch:  1\n",
            "index :  0 train_loss:  0.04129160364538449 val_loss:  0.04223290118800452\n",
            "index :  100 train_loss:  0.04033602697088873 val_loss:  0.04176308386686236\n",
            "EarlyStopping counter: 25 out of 50\n",
            "EarlyStopping counter: 50 out of 50\n",
            "135 early stop\n",
            "epoch:  2\n",
            "index :  0 train_loss:  0.038995393204430406 val_loss:  0.041622501991717936\n",
            "EarlyStopping counter: 25 out of 50\n",
            "EarlyStopping counter: 50 out of 50\n",
            "76 early stop\n",
            "epoch:  3\n",
            "index :  0 train_loss:  0.040831128735056774 val_loss:  0.04155650459660567\n",
            "EarlyStopping counter: 25 out of 50\n",
            "EarlyStopping counter: 50 out of 50\n",
            "49 early stop\n",
            "epoch:  4\n",
            "index :  0 train_loss:  0.03852366227429881 val_loss:  0.041531616475949745\n",
            "EarlyStopping counter: 25 out of 50\n",
            "index :  100 train_loss:  0.04131875327400051 val_loss:  0.04155443964437393\n",
            "EarlyStopping counter: 50 out of 50\n",
            "100 early stop\n",
            "cross validation batch 4\n",
            "epoch:  0\n",
            "index :  0 train_loss:  1.0221196750863675 val_loss:  1.0280662892877228\n",
            "index :  100 train_loss:  0.7334043408138771 val_loss:  0.7154273321212712\n",
            "index :  200 train_loss:  0.4802744292800061 val_loss:  0.5134189705084332\n",
            "index :  300 train_loss:  0.3885710250798006 val_loss:  0.3896323657126942\n",
            "index :  400 train_loss:  0.2745366240863223 val_loss:  0.30806567005438135\n",
            "index :  500 train_loss:  0.2026067655149556 val_loss:  0.25103760614795545\n",
            "index :  600 train_loss:  0.15681990944217192 val_loss:  0.21215553819373925\n",
            "index :  700 train_loss:  0.1442095242591836 val_loss:  0.18392708687264353\n",
            "index :  800 train_loss:  0.1182679056252017 val_loss:  0.16128182170943592\n",
            "index :  900 train_loss:  0.11647567994393322 val_loss:  0.14071880331116782\n",
            "index :  1000 train_loss:  0.2790628450741111 val_loss:  0.12745110650797728\n",
            "index :  1100 train_loss:  0.09768874278935077 val_loss:  0.11251566931079625\n",
            "index :  1200 train_loss:  0.07840097556664075 val_loss:  0.10388001927243264\n",
            "index :  1300 train_loss:  0.0740394695073092 val_loss:  0.09490056938948356\n",
            "index :  1400 train_loss:  0.06787672847403924 val_loss:  0.08959070340437848\n",
            "index :  1500 train_loss:  0.06730221986638356 val_loss:  0.08044192415165255\n",
            "index :  1600 train_loss:  0.06491327486827003 val_loss:  0.07728740532558326\n",
            "EarlyStopping counter: 25 out of 50\n",
            "index :  1700 train_loss:  0.05893382941839222 val_loss:  0.0739856849260901\n",
            "EarlyStopping counter: 25 out of 50\n",
            "index :  1800 train_loss:  0.05655488705848612 val_loss:  0.07152037505516458\n",
            "EarlyStopping counter: 25 out of 50\n",
            "index :  1900 train_loss:  0.06060232987892475 val_loss:  0.06499969540657928\n",
            "index :  2000 train_loss:  0.054478561056554534 val_loss:  0.061020062219410025\n",
            "index :  2100 train_loss:  0.05054531274075117 val_loss:  0.05691166406347317\n",
            "index :  2200 train_loss:  0.049990838281968014 val_loss:  0.05265934489004757\n",
            "index :  2300 train_loss:  0.04608681693795707 val_loss:  0.0481059732855768\n",
            "index :  2400 train_loss:  0.04115300937815225 val_loss:  0.044037248977296856\n",
            "EarlyStopping counter: 25 out of 50\n",
            "index :  2500 train_loss:  0.04299595789176911 val_loss:  0.043008198101804146\n",
            "EarlyStopping counter: 25 out of 50\n",
            "index :  2600 train_loss:  0.04409212312759234 val_loss:  0.0416882248050589\n",
            "EarlyStopping counter: 25 out of 50\n",
            "EarlyStopping counter: 50 out of 50\n",
            "2633 early stop\n",
            "epoch:  1\n",
            "index :  0 train_loss:  0.04418531976909819 val_loss:  0.041308455470532565\n",
            "EarlyStopping counter: 25 out of 50\n",
            "EarlyStopping counter: 50 out of 50\n",
            "49 early stop\n",
            "epoch:  2\n",
            "index :  0 train_loss:  0.0791583999337688 val_loss:  0.041386319595420586\n",
            "EarlyStopping counter: 25 out of 50\n",
            "EarlyStopping counter: 50 out of 50\n",
            "49 early stop\n",
            "epoch:  3\n",
            "index :  0 train_loss:  0.03995706372733314 val_loss:  0.041309189733657894\n",
            "EarlyStopping counter: 25 out of 50\n",
            "EarlyStopping counter: 25 out of 50\n",
            "EarlyStopping counter: 50 out of 50\n",
            "93 early stop\n",
            "epoch:  4\n",
            "index :  0 train_loss:  0.09130624796301266 val_loss:  0.04129708565490999\n",
            "EarlyStopping counter: 25 out of 50\n",
            "EarlyStopping counter: 50 out of 50\n",
            "49 early stop\n"
          ],
          "name": "stdout"
        }
      ]
    },
    {
      "cell_type": "markdown",
      "metadata": {
        "id": "nMvTaZl0p_c9"
      },
      "source": [
        "실제 학습과정 : \\\n",
        "train_, label_ 로 부터 64(batch_size)크기의 데이터를 랜덤으로 가져오고 이걸 gpu에 집어 넣음 \\\n",
        "loss 계산 (F.binary_cross.. : cross entropy loss 함수) 후 역전파 ( loss.backward) 마지막으로 모델의 가중치 수정(model_optimizer.step) \\\n",
        "with torch.no_grad : 이 부분이 검증데이터 loss 확인하는 부분. 검증데이터 loss가 50번(patient) 정도 성능 향상이 없다면 학습 종료."
      ],
      "id": "nMvTaZl0p_c9"
    },
    {
      "cell_type": "markdown",
      "metadata": {
        "id": "Cw6uYxnxpaLz"
      },
      "source": [
        "early stop 으로 인해 학습이 종료되면, optimizer의 learning rate를 절반으로 줄여서 다시 학습에 들어간다. 이런 과정이 총 epoch = 5번 만큼 반복됨"
      ],
      "id": "Cw6uYxnxpaLz"
    },
    {
      "cell_type": "markdown",
      "metadata": {
        "id": "z6cbXKwqsV0F"
      },
      "source": [
        "learning rate 줄이는걸 epoch 만큼 반복을 다 했다면, 지금 현재 모델을 가지고 test dataset에 대한 성능을 출력한다. 이를 result에 더하는 방식으로 저장(+=) \\\n",
        "다음 dataset에 대해 전체과정을 또 반복한다.(학습하고, early stop으로 종료하고, learning rate 줄이고, 학습하고,,,) \\\n",
        "dataset은 앞에서 cross validation으로 총 5번 만들 수 있음. "
      ],
      "id": "z6cbXKwqsV0F"
    },
    {
      "cell_type": "code",
      "metadata": {
        "id": "bzpbBbMVsC59"
      },
      "source": [
        ""
      ],
      "id": "bzpbBbMVsC59",
      "execution_count": null,
      "outputs": []
    },
    {
      "cell_type": "code",
      "metadata": {
        "id": "d5b6f21e"
      },
      "source": [
        "from sklearn.metrics import recall_score, precision_score, f1_score\n",
        "#모델들이 출력한 평균 확률값이 0.5 이상이면 class 1, 아니면 0으로 분류\n",
        "result_list = np.where(result/n_splits > 0.5, 1, 0)\n",
        "\n",
        "#실제 test dataset의 class\n",
        "test_label=y_test.to_numpy()"
      ],
      "id": "d5b6f21e",
      "execution_count": 23,
      "outputs": []
    },
    {
      "cell_type": "code",
      "metadata": {
        "colab": {
          "base_uri": "https://localhost:8080/",
          "height": 446
        },
        "id": "JkruVlhcQyqP",
        "outputId": "6084e206-5f98-482e-fd41-d1624f93b4d4"
      },
      "source": [
        "from sklearn.metrics import confusion_matrix\n",
        "import math\n",
        "\"\"\"\n",
        "TN,FP,FN,TP 분석\n",
        "\"\"\"\n",
        "\n",
        "matrix = confusion_matrix(test_label,result_list)\n",
        "print(\"TN\", matrix[0][0])\n",
        "print(\"FP\", matrix[0][1])\n",
        "print(\"FN\", matrix[1][0])\n",
        "print(\"TP\", matrix[1][1])\n",
        "#matrix[i][j] : true class i, predict class j\n",
        "print(\"recall score : \",recall_score(test_label,result_list))\n",
        "print(\"precision score : \",precision_score(test_label,result_list))\n",
        "print(\"f1 score : \",f1_score(test_label,result_list))\n",
        "\n",
        "\n",
        "\"\"\"\n",
        "train loss \n",
        "val loss 시각화\n",
        "\"\"\"\n",
        "row = math.ceil(n_splits/2)\n",
        "for i in range(n_splits):\n",
        "  plt.subplot(row,2,i+1)\n",
        "  plt.xlabel('iteration')\n",
        "  plt.plot(all_train_loss[i])\n",
        "  plt.plot(all_val_loss[i])\n",
        "  plt.subplots_adjust(left=0.125,\n",
        "                    bottom=0.01, \n",
        "                    right=0.9, \n",
        "                    top=0.9, \n",
        "                    wspace=0.2, \n",
        "                    hspace=0.35)\n"
      ],
      "id": "JkruVlhcQyqP",
      "execution_count": 25,
      "outputs": [
        {
          "output_type": "stream",
          "text": [
            "TN 68241\n",
            "FP 12\n",
            "FN 21\n",
            "TP 80\n",
            "recall score :  0.7920792079207921\n",
            "precision score :  0.8695652173913043\n",
            "f1 score :  0.8290155440414507\n"
          ],
          "name": "stdout"
        },
        {
          "output_type": "display_data",
          "data": {
            "image/png": "[encoded data removed]",
            "text/plain": [
              "<Figure size 432x288 with 5 Axes>"
            ]
          },
          "metadata": {
            "tags": [],
            "needs_background": "light"
          }
        }
      ]
    },
    {
      "cell_type": "markdown",
      "metadata": {
        "id": "Y71w87G6uGSh"
      },
      "source": [
        "TP, TN, FP, FN 에 대해 찾아보시면 좋을거같습니다."
      ],
      "id": "Y71w87G6uGSh"
    },
    {
      "cell_type": "markdown",
      "metadata": {
        "id": "3E7Ah-tnp8r4"
      },
      "source": [
        "코드 구현 남은 작업: \\\n",
        "1)코드 .py형태로 바꾸기, 이쁘게바꾸기 \\\n",
        "2) 저장경로 확인 \\\n",
        "3) local에서 굴러가는지 확인 \\\n",
        "4) 각 모델 저장"
      ],
      "id": "3E7Ah-tnp8r4"
    },
    {
      "cell_type": "markdown",
      "metadata": {
        "id": "79isASicv5Ad"
      },
      "source": [
        "# 새 섹션"
      ],
      "id": "79isASicv5Ad"
    }
  ]
}